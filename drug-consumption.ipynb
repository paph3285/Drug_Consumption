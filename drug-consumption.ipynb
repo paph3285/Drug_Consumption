{
 "cells": [
  {
   "cell_type": "code",
   "execution_count": 1,
   "id": "db12e14d",
   "metadata": {
    "_cell_guid": "b1076dfc-b9ad-4769-8c92-a6c4dae69d19",
    "_uuid": "8f2839f25d086af736a60e9eeb907d3b93b6e0e5",
    "execution": {
     "iopub.execute_input": "2022-11-18T03:32:24.827784Z",
     "iopub.status.busy": "2022-11-18T03:32:24.827292Z",
     "iopub.status.idle": "2022-11-18T03:32:24.844655Z",
     "shell.execute_reply": "2022-11-18T03:32:24.843907Z"
    },
    "papermill": {
     "duration": 0.023085,
     "end_time": "2022-11-18T03:32:24.846576",
     "exception": false,
     "start_time": "2022-11-18T03:32:24.823491",
     "status": "completed"
    },
    "tags": []
   },
   "outputs": [
    {
     "name": "stdout",
     "output_type": "stream",
     "text": [
      "/kaggle/input/drug-consumptions-uci/Drug_Consumption_Quantified.csv\n",
      "/kaggle/input/drug-consumptions-uci/Drug_Consumption.csv\n"
     ]
    }
   ],
   "source": [
    "# This Python 3 environment comes with many helpful analytics libraries installed\n",
    "# It is defined by the kaggle/python Docker image: https://github.com/kaggle/docker-python\n",
    "# For example, here's several helpful packages to load\n",
    "\n",
    "import numpy as np # linear algebra\n",
    "import pandas as pd # data processing, CSV file I/O (e.g. pd.read_csv)\n",
    "\n",
    "# Input data files are available in the read-only \"../input/\" directory\n",
    "# For example, running this (by clicking run or pressing Shift+Enter) will list all files under the input directory\n",
    "\n",
    "import os\n",
    "for dirname, _, filenames in os.walk('/kaggle/input'):\n",
    "    for filename in filenames:\n",
    "        print(os.path.join(dirname, filename))\n",
    "\n",
    "# You can write up to 20GB to the current directory (/kaggle/working/) that gets preserved as output when you create a version using \"Save & Run All\" \n",
    "# You can also write temporary files to /kaggle/temp/, but they won't be saved outside of the current session"
   ]
  },
  {
   "cell_type": "markdown",
   "id": "93a80aba",
   "metadata": {
    "papermill": {
     "duration": 0.001552,
     "end_time": "2022-11-18T03:32:24.850204",
     "exception": false,
     "start_time": "2022-11-18T03:32:24.848652",
     "status": "completed"
    },
    "tags": []
   },
   "source": [
    "# Exploring Dataset"
   ]
  },
  {
   "cell_type": "code",
   "execution_count": null,
   "id": "04bb92f2",
   "metadata": {
    "papermill": {
     "duration": 0.001513,
     "end_time": "2022-11-18T03:32:24.853390",
     "exception": false,
     "start_time": "2022-11-18T03:32:24.851877",
     "status": "completed"
    },
    "tags": []
   },
   "outputs": [],
   "source": []
  },
  {
   "cell_type": "code",
   "execution_count": 2,
   "id": "a0c8cd34",
   "metadata": {
    "execution": {
     "iopub.execute_input": "2022-11-18T03:32:24.857602Z",
     "iopub.status.busy": "2022-11-18T03:32:24.857371Z",
     "iopub.status.idle": "2022-11-18T03:32:24.860853Z",
     "shell.execute_reply": "2022-11-18T03:32:24.860116Z"
    },
    "papermill": {
     "duration": 0.007399,
     "end_time": "2022-11-18T03:32:24.862461",
     "exception": false,
     "start_time": "2022-11-18T03:32:24.855062",
     "status": "completed"
    },
    "tags": []
   },
   "outputs": [],
   "source": [
    "import numpy as np"
   ]
  },
  {
   "cell_type": "code",
   "execution_count": null,
   "id": "b1584621",
   "metadata": {
    "papermill": {
     "duration": 0.001637,
     "end_time": "2022-11-18T03:32:24.865964",
     "exception": false,
     "start_time": "2022-11-18T03:32:24.864327",
     "status": "completed"
    },
    "tags": []
   },
   "outputs": [],
   "source": []
  },
  {
   "cell_type": "code",
   "execution_count": 3,
   "id": "b58da827",
   "metadata": {
    "execution": {
     "iopub.execute_input": "2022-11-18T03:32:24.870662Z",
     "iopub.status.busy": "2022-11-18T03:32:24.870068Z",
     "iopub.status.idle": "2022-11-18T03:32:24.873472Z",
     "shell.execute_reply": "2022-11-18T03:32:24.872747Z"
    },
    "papermill": {
     "duration": 0.007332,
     "end_time": "2022-11-18T03:32:24.875071",
     "exception": false,
     "start_time": "2022-11-18T03:32:24.867739",
     "status": "completed"
    },
    "tags": []
   },
   "outputs": [],
   "source": [
    "import pandas as pd"
   ]
  }
 ],
 "metadata": {
  "kernelspec": {
   "display_name": "Python 3",
   "language": "python",
   "name": "python3"
  },
  "language_info": {
   "codemirror_mode": {
    "name": "ipython",
    "version": 3
   },
   "file_extension": ".py",
   "mimetype": "text/x-python",
   "name": "python",
   "nbconvert_exporter": "python",
   "pygments_lexer": "ipython3",
   "version": "3.7.12"
  },
  "papermill": {
   "default_parameters": {},
   "duration": 6.822443,
   "end_time": "2022-11-18T03:32:25.293436",
   "environment_variables": {},
   "exception": null,
   "input_path": "__notebook__.ipynb",
   "output_path": "__notebook__.ipynb",
   "parameters": {},
   "start_time": "2022-11-18T03:32:18.470993",
   "version": "2.3.4"
  }
 },
 "nbformat": 4,
 "nbformat_minor": 5
}
