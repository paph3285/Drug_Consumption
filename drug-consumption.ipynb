{
 "cells": [
  {
   "cell_type": "code",
   "execution_count": 1,
   "id": "badefc54",
   "metadata": {
    "_cell_guid": "b1076dfc-b9ad-4769-8c92-a6c4dae69d19",
    "_uuid": "8f2839f25d086af736a60e9eeb907d3b93b6e0e5",
    "execution": {
     "iopub.execute_input": "2022-11-18T03:22:08.101616Z",
     "iopub.status.busy": "2022-11-18T03:22:08.100501Z",
     "iopub.status.idle": "2022-11-18T03:22:08.128153Z",
     "shell.execute_reply": "2022-11-18T03:22:08.127063Z"
    },
    "papermill": {
     "duration": 0.03488,
     "end_time": "2022-11-18T03:22:08.131208",
     "exception": false,
     "start_time": "2022-11-18T03:22:08.096328",
     "status": "completed"
    },
    "tags": []
   },
   "outputs": [
    {
     "name": "stdout",
     "output_type": "stream",
     "text": [
      "/kaggle/input/drug-consumptions-uci/Drug_Consumption_Quantified.csv\n",
      "/kaggle/input/drug-consumptions-uci/Drug_Consumption.csv\n"
     ]
    }
   ],
   "source": [
    "# This Python 3 environment comes with many helpful analytics libraries installed\n",
    "# It is defined by the kaggle/python Docker image: https://github.com/kaggle/docker-python\n",
    "# For example, here's several helpful packages to load\n",
    "\n",
    "import numpy as np # linear algebra\n",
    "import pandas as pd # data processing, CSV file I/O (e.g. pd.read_csv)\n",
    "\n",
    "# Input data files are available in the read-only \"../input/\" directory\n",
    "# For example, running this (by clicking run or pressing Shift+Enter) will list all files under the input directory\n",
    "\n",
    "import os\n",
    "for dirname, _, filenames in os.walk('/kaggle/input'):\n",
    "    for filename in filenames:\n",
    "        print(os.path.join(dirname, filename))\n",
    "\n",
    "# You can write up to 20GB to the current directory (/kaggle/working/) that gets preserved as output when you create a version using \"Save & Run All\" \n",
    "# You can also write temporary files to /kaggle/temp/, but they won't be saved outside of the current session"
   ]
  },
  {
   "cell_type": "markdown",
   "id": "eba5e66f",
   "metadata": {
    "papermill": {
     "duration": 0.00145,
     "end_time": "2022-11-18T03:22:08.134754",
     "exception": false,
     "start_time": "2022-11-18T03:22:08.133304",
     "status": "completed"
    },
    "tags": []
   },
   "source": [
    "# Exploring Dataset"
   ]
  },
  {
   "cell_type": "code",
   "execution_count": null,
   "id": "fcac8eeb",
   "metadata": {
    "papermill": {
     "duration": 0.00135,
     "end_time": "2022-11-18T03:22:08.137695",
     "exception": false,
     "start_time": "2022-11-18T03:22:08.136345",
     "status": "completed"
    },
    "tags": []
   },
   "outputs": [],
   "source": []
  },
  {
   "cell_type": "code",
   "execution_count": 2,
   "id": "3d58f6a4",
   "metadata": {
    "execution": {
     "iopub.execute_input": "2022-11-18T03:22:08.142589Z",
     "iopub.status.busy": "2022-11-18T03:22:08.142206Z",
     "iopub.status.idle": "2022-11-18T03:22:08.146757Z",
     "shell.execute_reply": "2022-11-18T03:22:08.145552Z"
    },
    "papermill": {
     "duration": 0.009996,
     "end_time": "2022-11-18T03:22:08.149253",
     "exception": false,
     "start_time": "2022-11-18T03:22:08.139257",
     "status": "completed"
    },
    "tags": []
   },
   "outputs": [],
   "source": [
    "import numpy as np"
   ]
  }
 ],
 "metadata": {
  "kernelspec": {
   "display_name": "Python 3",
   "language": "python",
   "name": "python3"
  },
  "language_info": {
   "codemirror_mode": {
    "name": "ipython",
    "version": 3
   },
   "file_extension": ".py",
   "mimetype": "text/x-python",
   "name": "python",
   "nbconvert_exporter": "python",
   "pygments_lexer": "ipython3",
   "version": "3.7.12"
  },
  "papermill": {
   "default_parameters": {},
   "duration": 8.330387,
   "end_time": "2022-11-18T03:22:08.771951",
   "environment_variables": {},
   "exception": null,
   "input_path": "__notebook__.ipynb",
   "output_path": "__notebook__.ipynb",
   "parameters": {},
   "start_time": "2022-11-18T03:22:00.441564",
   "version": "2.3.4"
  }
 },
 "nbformat": 4,
 "nbformat_minor": 5
}
